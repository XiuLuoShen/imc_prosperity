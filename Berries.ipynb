{
 "cells": [
  {
   "cell_type": "code",
   "execution_count": 1,
   "id": "80d0e14c-a6fd-4d9b-8439-5726c45359ce",
   "metadata": {},
   "outputs": [],
   "source": [
    "import numpy as np\n",
    "import pandas as pd\n",
    "import json"
   ]
  },
  {
   "cell_type": "code",
   "execution_count": 2,
   "id": "e65d1d55-26bd-44a4-8c90-100fd3bf4cef",
   "metadata": {},
   "outputs": [],
   "source": [
    "# Libraries that we cannot import for trading\n",
    "import collections\n",
    "import matplotlib.pyplot as plt\n",
    "import re\n",
    "\n",
    "import seaborn as sns\n",
    "from IPython.display import display"
   ]
  },
  {
   "cell_type": "code",
   "execution_count": 13,
   "id": "17afe45a-d5b8-414b-8440-1581d4871773",
   "metadata": {},
   "outputs": [],
   "source": [
    "SYMBOLS = ['BERRIES']\n",
    "OBSERVATIONS = []"
   ]
  },
  {
   "cell_type": "markdown",
   "id": "fe08ef01-c385-4c58-aec8-bb7262fb44f4",
   "metadata": {},
   "source": [
    "# DATA LOADING"
   ]
  },
  {
   "cell_type": "code",
   "execution_count": 3,
   "id": "fb4a6bce-a496-4c07-974e-5eae9a0b51be",
   "metadata": {},
   "outputs": [],
   "source": [
    "def split_data_by_symbol(df):\n",
    "    markets = dict()\n",
    "    df_grouped = df.groupby(\"symbol\")\n",
    "    symbols = list(df_grouped.groups.keys())\n",
    "    for s in SYMBOLS + OBSERVATIONS:\n",
    "        if s in df_grouped.groups:     \n",
    "            markets[s] = df_grouped.get_group(s).reset_index(drop=True)\n",
    "    return markets\n",
    "\n",
    "\n",
    "def load_hist_quote_data(files):\n",
    "    md = [pd.read_csv(f,sep=';') for f in files]\n",
    "    md = pd.concat(md, ignore_index=True)\n",
    "    md.drop(columns=['profit_and_loss'], inplace=True)\n",
    "    rename_columns = {'product':'symbol', 'bid_price_1': 'bid', 'ask_price_1': 'ask', \n",
    "                      'bid_volume_1':'bid_sz', 'ask_volume_1': 'ask_sz', \n",
    "                      'bid_price_2':'bid_2','bid_volume_2':'bid_sz_2','ask_price_2':'ask_2','ask_volume_2':'ask_sz_2',\n",
    "                      'bid_price_3':'bid_3','bid_volume_3':'bid_sz_3','ask_price_3':'ask_3','ask_volume_3':'ask_sz_3'}\n",
    "    md.rename(columns=rename_columns, inplace=True)\n",
    "    for i in [4, 5]:\n",
    "        for col in ['bid','ask']:\n",
    "            md[f'{col}_{i}'] = np.nan\n",
    "            md[f'{col}_sz_{i}'] = np.nan\n",
    "\n",
    "    md['timestamp'] = md['timestamp'] + 1000000*md['day'] - 1000000*(md['day'].min())\n",
    "    markets = split_data_by_symbol(md)\n",
    "    symbols = list(markets.keys())\n",
    "    return markets\n",
    "\n",
    "\n",
    "def load_hist_trade_data(files,hist_days):\n",
    "    md = [pd.read_csv(f,sep=';') for f in files]\n",
    "    for i in range(len(hist_days)):\n",
    "        md[i]['day'] = hist_days[i]\n",
    "    md = pd.concat(md, ignore_index=True)\n",
    "    md.drop(columns=['buyer', 'seller'], inplace=True)\n",
    "    md = md[md.price > 0].copy()\n",
    "    md['timestamp'] = md['timestamp'] + 1000000*md['day'] - 1000000*(md['day'].min())\n",
    "    \n",
    "    markets = split_data_by_symbol(md)\n",
    "    symbols = list(markets.keys())\n",
    "    return markets\n",
    "\n",
    "def augment_trade_data(trades):\n",
    "    \"\"\" Making a guess to the sides of the trades based distance to mid price of previous quote\n",
    "    Experimental - NOT SURE IF THIS IS GOING TO BE HELPFUL\n",
    "    \"\"\"\n",
    "    bid_dist = trades['price'] - trades['bid']\n",
    "    ask_dist = trades['ask'] - trades['price']\n",
    "    trades['side'] = np.sign(ask_dist - bid_dist)\n",
    "    return\n",
    "\n",
    "def combine_hist_quote_trades(hist_quotes, hist_trades):\n",
    "    \"\"\" Join data frames together\n",
    "    \"\"\"\n",
    "    for sym in SYMBOLS:\n",
    "        quotes = hist_quotes[sym]\n",
    "        trades = hist_trades[sym]\n",
    "        # Join quote data to trades\n",
    "        trades = trades.merge(quotes, how='left', on=['symbol','day','timestamp'])\n",
    "        trades['notional'] = trades['price']*trades['quantity']\n",
    "\n",
    "        augment_trade_data(trades)\n",
    "        trades['buy_vol'] = trades.apply(lambda x: x['quantity'] if x['side'] == 1 else 0, axis=1)\n",
    "        trades['sell_vol'] = trades.apply(lambda x: x['quantity'] if x['side'] == -1 else 0, axis=1)\n",
    "        trades['grey_vol'] = trades.apply(lambda x: x['quantity'] if x['side'] == 0 else 0, axis=1)\n",
    "        \n",
    "        # Summarize state by state trade data\n",
    "        trades_grp = trades.groupby(['symbol','day','timestamp']).agg({\n",
    "            'quantity':'sum', 'notional':'sum', 'buy_vol':'sum', 'sell_vol':'sum','grey_vol':'sum'})\n",
    "        \n",
    "        trades_grp['vwap'] = trades_grp['notional']/trades_grp['quantity']\n",
    "        trades_grp['trades'] = trades.groupby(['symbol','day','timestamp']).size()\n",
    "        trades_grp = trades_grp.rename(columns={'quantity':'volume'})\n",
    "        \n",
    "        # Join trade data to quote\n",
    "        quotes = quotes.merge(trades_grp.reset_index(), how='left')\n",
    "        for col in ['volume', 'notional','trades', 'buy_vol','sell_vol','grey_vol']:\n",
    "            quotes[col].fillna(0, inplace=True)\n",
    "        quotes['vwap'].fillna(method='ffill',inplace=True)\n",
    "        quotes.loc[quotes.vwap.isna(), 'vwap'] = quotes.loc[quotes.vwap.isna(), 'mid_price']\n",
    "        \n",
    "        # Update\n",
    "        hist_quotes[sym] = quotes\n",
    "        hist_trades[sym] = trades.copy()\n",
    "    \n",
    "    return hist_quotes, hist_trades\n",
    "\n",
    "def load_hist_data(quote_files, trade_files, hist_days):\n",
    "    hist_quotes = load_hist_quote_data(quote_files)\n",
    "    hist_trades = load_hist_trade_data(trade_files, hist_days)\n",
    "    \n",
    "    hist_quotes, hist_trades = combine_hist_quote_trades(hist_quotes, hist_trades)\n",
    "    return hist_quotes, hist_trades"
   ]
  },
  {
   "cell_type": "code",
   "execution_count": 4,
   "id": "fb845dde-e2bf-4b54-95be-4821bac947f2",
   "metadata": {},
   "outputs": [],
   "source": [
    "def quote_levels_feature(quote):\n",
    "    quote['bid_levels'] = 1\n",
    "    quote['ask_levels'] = 1\n",
    "    \n",
    "    for i in range(2,6):\n",
    "        quote.loc[quote[f'bid_{i}'].notna(), 'bid_levels'] += 1\n",
    "        quote.loc[quote[f'ask_{i}'].notna(), 'ask_levels'] += 1\n",
    "    \n",
    "    return\n",
    "\n",
    "def quote_weighted_px_full(quote, levels=5):\n",
    "    notional = quote.bid_sz*quote.bid + quote.ask_sz*quote.ask\n",
    "    size = quote.bid_sz + quote.ask_sz\n",
    "    for i in range(2, min(quote['bid_levels'], levels)+1):\n",
    "        notional += quote[f'bid_{i}']*quote[f'bid_sz_{i}']\n",
    "        size += quote[f'bid_sz_{i}']\n",
    "    for i in range(2, min(quote['ask_levels'], levels)+1):\n",
    "        notional += quote[f'ask_{i}']*quote[f'ask_sz_{i}']\n",
    "        size += quote[f'ask_sz_{i}']\n",
    "    \n",
    "    return notional/size\n",
    "\n",
    "\n",
    "def quote_weighted_px_square(quote, levels=5):\n",
    "    notional, size = 0, 0\n",
    "    for x in ['bid','ask']:\n",
    "        notional += np.square(quote[f'{x}_sz'])*quote[x]\n",
    "        size += np.square(quote[f'{x}_sz'])\n",
    "   \n",
    "        for i in range(2, min(quote[f'{x}_levels'], levels)+1):\n",
    "            notional += quote[f'{x}_{i}']*np.square(quote[f'{x}_sz_{i}'])\n",
    "            size += np.square(quote[f'{x}_sz_{i}'])\n",
    "    \n",
    "    return notional/size\n",
    "\n",
    "def quote_weighted_px_skip_top(quote, levels=5):\n",
    "    notional, size = 0, 0\n",
    "    \n",
    "    if quote['bid_sz'] >= 5:\n",
    "        notional += quote.bid_sz*quote.bid\n",
    "        size += quote.bid_sz\n",
    "    if quote['ask_sz'] >= 5:\n",
    "        notional += quote.ask_sz*quote.ask\n",
    "        size += quote.ask_sz\n",
    "\n",
    "    for i in range(2, min(quote['bid_levels'], levels)+1):\n",
    "        notional += quote[f'bid_{i}']*quote[f'bid_sz_{i}']\n",
    "        size += quote[f'bid_sz_{i}']\n",
    "    for i in range(2, min(quote['ask_levels'], levels)+1):\n",
    "        notional += quote[f'ask_{i}']*quote[f'ask_sz_{i}']\n",
    "        size += quote[f'ask_sz_{i}']\n",
    "    \n",
    "    return notional/size"
   ]
  },
  {
   "cell_type": "code",
   "execution_count": 5,
   "id": "1eafeca3-e2e2-4512-bb49-2d7b2ab1a34d",
   "metadata": {},
   "outputs": [],
   "source": [
    "MOVING_WINDOW_TIMES = [5, 10, 25, 50]\n",
    "HIST_PX_TIMES = [1, 5, 10, 20, 30, 50]\n",
    "FUTURE_TIMES = [1, 2, 3, 4, 5, 10, 25, 50]\n",
    "\n",
    "def quote_preprocess(md):\n",
    "    \"\"\" Pre-computing additional columns for analyzing quote\n",
    "    \"\"\"\n",
    "    # md['mid_price'] = (md.ask_price_1 + md.bid_price_1)/2\n",
    "    if 'bid_levels' not in md.columns:\n",
    "        quote_levels_feature(md)\n",
    "    md['spread'] = md.ask - md.bid\n",
    "    md['return'] = md['mid_price']/md['mid_price'].iloc[0] # % change in price since the beginning\n",
    "    \n",
    "    for t in MOVING_WINDOW_TIMES:\n",
    "        md[f'mid_px_mavg{t}'] = md['mid_price'].rolling(t, min_periods=0).mean()\n",
    "        md[f'mid_px_mavg{t}_norm'] = md[f'mid_px_mavg{t}']/md['mid_price']\n",
    "        md[f'px_norm_mavg{t}'] = md['return'].rolling(t, min_periods=0).mean()\n",
    "        \n",
    "    # quote weighted average price\n",
    "    quote_sz = md.bid_sz + md.ask_sz\n",
    "    md['quote_wgt_px_top'] = (md.bid_sz*md.bid + md.ask_sz*md.ask)/quote_sz\n",
    "    md['fair_v1'] = md.apply(quote_weighted_px_full, axis=1)\n",
    "    md['fair_v2'] = md['vwap']\n",
    "    md['fair_v3'] = md.apply(quote_weighted_px_square, axis=1)\n",
    "    \n",
    "    for t in HIST_PX_TIMES:\n",
    "        # Price move since the past\n",
    "        md[f'px_move_{t}'] = md.mid_price-md.mid_price.shift(t)\n",
    "        md[f'bid_move_{t}'] = md.bid-md.bid.shift(t)\n",
    "        md[f'ask_move_{t}'] = md.ask-md.ask.shift(t)\n",
    "        \n",
    "        md[f'px_move_{t}'].fillna(0, inplace=True)\n",
    "        md[f'bid_move_{t}'].fillna(0, inplace=True)\n",
    "        md[f'ask_move_{t}'].fillna(0, inplace=True)\n",
    "        \n",
    "        md[f'px_move_{t}_norm'] = md[f'px_move_{t}']/md['mid_price']\n",
    "        \n",
    "        # log return\n",
    "        md[f'log_return_{t}'] = np.log(md.mid_price)-np.log(md.mid_price.shift(t))\n",
    "        md[f'log_return_{t}'].fillna(1, inplace=True)\n",
    "    md = md.copy()\n",
    "    \n",
    "    # Volume    \n",
    "    for t in MOVING_WINDOW_TIMES:\n",
    "        md[f'volume_{t}'] = md['volume'].rolling(t, min_periods=0).sum()\n",
    "    if 'buy_vol' in md.columns:\n",
    "        for t in MOVING_WINDOW_TIMES:\n",
    "            md[f'buy_vol_{t}'] = md['buy_vol'].rolling(t, min_periods=0).sum()\n",
    "            md[f'sell_vol_{t}'] = md['sell_vol'].rolling(t, min_periods=0).sum()\n",
    "        md['volume_imb'] = md.buy_vol-md.sell_vol # Positive implies people are preparing for quote to move in\n",
    "        \n",
    "    md = md.copy()\n",
    "\n",
    "    md['quote_imb'] = md.bid_sz/quote_sz\n",
    "    md['levels_imb'] = md.bid_levels-md.ask_levels # Positive implies people are preparing for quote to move in\n",
    "    \n",
    "    ############# Future\n",
    "    # Future prices\n",
    "    for t in FUTURE_TIMES:\n",
    "        # Future - present\n",
    "        # Mid to mid, bid to mid, ask to mid\n",
    "        md[f'fpx_{t}'] = md.mid_price.shift(-t).fillna(method='ffill') - md.mid_price\n",
    "        md[f'fpx_bid_{t}'] = md.bid.shift(-t).fillna(method='ffill') - md.bid\n",
    "        md[f'fpx_ask_{t}'] = md.ask.shift(-t).fillna(method='ffill') - md.ask\n",
    "    for t in FUTURE_TIMES:\n",
    "        md[f'fpx_move_{t}'] = np.sign(md[f'fpx_{t}'])\n",
    "        md[f'fpx_bid_move_{t}'] = md[f'fpx_bid_{t}'] > 0\n",
    "        md[f'fpx_ask_move_{t}'] = md[f'fpx_ask_{t}'] <= 0\n",
    "    md['fvolume'] = md['volume'].shift(-1)\n",
    "    for t in MOVING_WINDOW_TIMES:\n",
    "        md[f'fvolume_{t}'] = md[f'volume_{t}'].shift(-t)\n",
    "    md = md.copy()\n",
    "        \n",
    "    # Features\n",
    "    md['total_bid_sz'] = md[['bid_sz','bid_sz_2','bid_sz_3','bid_sz_4','bid_sz_5']].sum(axis=1)\n",
    "    md['max_bid_sz'] = md[['bid_sz','bid_sz_2','bid_sz_3','bid_sz_4','bid_sz_5']].max(axis=1)\n",
    "    md['total_ask_sz'] = md[['ask_sz','ask_sz_2','ask_sz_3','ask_sz_4','ask_sz_5']].sum(axis=1)\n",
    "    md['max_ask_sz'] = md[['ask_sz','ask_sz_2','ask_sz_3','ask_sz_4','ask_sz_5']].max(axis=1)\n",
    "    \n",
    "    md['bid_sz_mavg'] = md['bid_sz'].cumsum()/(1+md['timestamp']/100)\n",
    "    md['ask_sz_mavg'] = md['ask_sz'].cumsum()/(1+md['timestamp']/100)\n",
    "       \n",
    "    for v in [1, 2, 3]:\n",
    "        md[f'dist_fair_v{v}'] = md[f'fair_v{v}']-md['mid_price']\n",
    "        md[f'dist_fair_v{v}_norm'] = md[f'dist_fair_v{v}']/md['mid_price']\n",
    "        \n",
    "        md[f'dist_fair_v{v}_bid'] = md[f'fair_v{v}']-md['bid'] # expected to be positive\n",
    "        md[f'dist_fair_v{v}_ask'] = md[f'fair_v{v}']-md['ask'] # expected to be negative\n",
    "        for t in HIST_PX_TIMES:\n",
    "            md[f'fair_v{v}_move_{t}'] = md[f'fair_v{v}']-md[f'fair_v{v}'].shift(t)\n",
    "            \n",
    "    md['bid_improve'] = md['bid'] > md['bid'].shift(1)\n",
    "    md['bid_revert'] = md['bid'] < md['bid'].shift(1)\n",
    "    md['ask_improve'] = md['ask'] < md['ask'].shift(1)\n",
    "    md['ask_revert'] = md['ask'] > md['ask'].shift(1)\n",
    "    \n",
    "    return md"
   ]
  },
  {
   "cell_type": "code",
   "execution_count": 19,
   "id": "0a208ab7-6457-40b1-9f9a-b6596841ba5c",
   "metadata": {},
   "outputs": [],
   "source": [
    "def hist_data_summary(hist_quotes, hist_trades):\n",
    "    for sym in SYMBOLS:\n",
    "        print(sym)\n",
    "        quote = hist_quotes[sym]\n",
    "        quote_summary = quote.agg({\n",
    "            'spread':['mean','std'], 'mid_price': ['mean','std'], 'px_move_10': ['mean','std'], 'px_move_50': ['mean','std'],\n",
    "            'volume':['sum', 'mean'], 'trades':['sum', 'mean'],\n",
    "            'bid_sz': 'mean', 'ask_sz':'mean', \n",
    "            'bid_levels':'mean', 'ask_levels':'mean',\n",
    "            'bid_sz_2':'mean', 'ask_sz_2':'mean',\n",
    "            'bid_sz_3':'mean', 'ask_sz_3':'mean',\n",
    "        }).round(2)\n",
    "        display(quote_summary)\n",
    "        \n",
    "fig_size = (6,3)\n",
    "\n",
    "def plot_col_sym(md, sym, col):\n",
    "    f, ax = plt.subplots(figsize=fig_size)\n",
    "    ax.plot(\"timestamp\", col, data=md)\n",
    "    ax.set_xlabel(\"Time\")\n",
    "    ax.set_ylabel(col)\n",
    "    ax.set_title(sym)\n",
    "    plt.tight_layout()\n",
    "    return"
   ]
  },
  {
   "cell_type": "markdown",
   "id": "198c81c5-3732-48f4-8300-dfd171162124",
   "metadata": {
    "toc-hr-collapsed": true
   },
   "source": [
    "## Load"
   ]
  },
  {
   "cell_type": "code",
   "execution_count": 17,
   "id": "ecc96838-6bf5-438e-b1d6-0884267f0af6",
   "metadata": {},
   "outputs": [],
   "source": [
    "data_dir = 'hist_data/island-data-bottle-round-3/'\n",
    "hist_days = [0, 1, 2]\n",
    "quote_files = [f'{data_dir}prices_round_3_day_{i}.csv' for i in hist_days]\n",
    "trade_files = [f'{data_dir}trades_round_3_day_{i}_nn.csv' for i in hist_days]\n",
    "\n",
    "hist_quotes, hist_trades = load_hist_data(quote_files, trade_files, hist_days)\n",
    "for sym in SYMBOLS:\n",
    "    hist_quotes[sym] = quote_preprocess(hist_quotes[sym])"
   ]
  },
  {
   "cell_type": "code",
   "execution_count": 18,
   "id": "be202850-102e-4417-a614-a3ee54d7bd20",
   "metadata": {},
   "outputs": [
    {
     "name": "stdout",
     "output_type": "stream",
     "text": [
      "BERRIES\n"
     ]
    },
    {
     "data": {
      "text/html": [
       "<div>\n",
       "<style scoped>\n",
       "    .dataframe tbody tr th:only-of-type {\n",
       "        vertical-align: middle;\n",
       "    }\n",
       "\n",
       "    .dataframe tbody tr th {\n",
       "        vertical-align: top;\n",
       "    }\n",
       "\n",
       "    .dataframe thead th {\n",
       "        text-align: right;\n",
       "    }\n",
       "</style>\n",
       "<table border=\"1\" class=\"dataframe\">\n",
       "  <thead>\n",
       "    <tr style=\"text-align: right;\">\n",
       "      <th></th>\n",
       "      <th>spread</th>\n",
       "      <th>mid_price</th>\n",
       "      <th>px_move_10</th>\n",
       "      <th>px_move_50</th>\n",
       "      <th>volume</th>\n",
       "      <th>trades</th>\n",
       "      <th>bid_sz</th>\n",
       "      <th>ask_sz</th>\n",
       "      <th>bid_levels</th>\n",
       "      <th>ask_levels</th>\n",
       "      <th>bid_sz_2</th>\n",
       "      <th>ask_sz_2</th>\n",
       "      <th>bid_sz_3</th>\n",
       "      <th>ask_sz_3</th>\n",
       "    </tr>\n",
       "  </thead>\n",
       "  <tbody>\n",
       "    <tr>\n",
       "      <th>mean</th>\n",
       "      <td>6.48</td>\n",
       "      <td>3917.64</td>\n",
       "      <td>-0.03</td>\n",
       "      <td>-0.15</td>\n",
       "      <td>0.51</td>\n",
       "      <td>0.06</td>\n",
       "      <td>15.61</td>\n",
       "      <td>15.57</td>\n",
       "      <td>2.03</td>\n",
       "      <td>2.03</td>\n",
       "      <td>48.19</td>\n",
       "      <td>48.18</td>\n",
       "      <td>50.02</td>\n",
       "      <td>49.97</td>\n",
       "    </tr>\n",
       "    <tr>\n",
       "      <th>std</th>\n",
       "      <td>1.23</td>\n",
       "      <td>43.08</td>\n",
       "      <td>1.82</td>\n",
       "      <td>3.70</td>\n",
       "      <td>NaN</td>\n",
       "      <td>NaN</td>\n",
       "      <td>NaN</td>\n",
       "      <td>NaN</td>\n",
       "      <td>NaN</td>\n",
       "      <td>NaN</td>\n",
       "      <td>NaN</td>\n",
       "      <td>NaN</td>\n",
       "      <td>NaN</td>\n",
       "      <td>NaN</td>\n",
       "    </tr>\n",
       "    <tr>\n",
       "      <th>sum</th>\n",
       "      <td>NaN</td>\n",
       "      <td>NaN</td>\n",
       "      <td>NaN</td>\n",
       "      <td>NaN</td>\n",
       "      <td>15204.00</td>\n",
       "      <td>1764.00</td>\n",
       "      <td>NaN</td>\n",
       "      <td>NaN</td>\n",
       "      <td>NaN</td>\n",
       "      <td>NaN</td>\n",
       "      <td>NaN</td>\n",
       "      <td>NaN</td>\n",
       "      <td>NaN</td>\n",
       "      <td>NaN</td>\n",
       "    </tr>\n",
       "  </tbody>\n",
       "</table>\n",
       "</div>"
      ],
      "text/plain": [
       "      spread  mid_price  px_move_10  px_move_50    volume   trades  bid_sz  \\\n",
       "mean    6.48    3917.64       -0.03       -0.15      0.51     0.06   15.61   \n",
       "std     1.23      43.08        1.82        3.70       NaN      NaN     NaN   \n",
       "sum      NaN        NaN         NaN         NaN  15204.00  1764.00     NaN   \n",
       "\n",
       "      ask_sz  bid_levels  ask_levels  bid_sz_2  ask_sz_2  bid_sz_3  ask_sz_3  \n",
       "mean   15.57        2.03        2.03     48.19     48.18     50.02     49.97  \n",
       "std      NaN         NaN         NaN       NaN       NaN       NaN       NaN  \n",
       "sum      NaN         NaN         NaN       NaN       NaN       NaN       NaN  "
      ]
     },
     "metadata": {},
     "output_type": "display_data"
    }
   ],
   "source": [
    "hist_data_summary(hist_quotes, hist_trades)"
   ]
  },
  {
   "cell_type": "markdown",
   "id": "3c3001d5-ce74-414a-83d7-df18fd84f466",
   "metadata": {},
   "source": [
    "# Historical Quote Analysis"
   ]
  },
  {
   "cell_type": "code",
   "execution_count": 20,
   "id": "cb6b7287-5105-42aa-abbe-f0fe6cd97da9",
   "metadata": {},
   "outputs": [
    {
     "name": "stdout",
     "output_type": "stream",
     "text": [
      "BERRIES\n"
     ]
    },
    {
     "data": {
      "image/png": "[encoded data removed]",
      "text/plain": [
       "<Figure size 720x216 with 3 Axes>"
      ]
     },
     "metadata": {
      "needs_background": "light"
     },
     "output_type": "display_data"
    }
   ],
   "source": [
    "for sym in SYMBOLS:\n",
    "    quote = hist_quotes[sym]\n",
    "    print(sym)\n",
    "    f, ax = plt.subplots(1, 3, figsize=(10,3))\n",
    "    for i, col in enumerate(['spread','bid_sz','ask_sz']):\n",
    "        sns.histplot(x=col, data=quote, ax=ax[i])\n",
    "    plt.tight_layout()"
   ]
  },
  {
   "cell_type": "code",
   "execution_count": 21,
   "id": "6e8f2bcd-e1b2-411f-b9b0-952336d4911a",
   "metadata": {},
   "outputs": [
    {
     "name": "stdout",
     "output_type": "stream",
     "text": [
      "BERRIES\n"
     ]
    },
    {
     "data": {
      "image/png": "[encoded data removed]",
      "text/plain": [
       "<Figure size 720x216 with 3 Axes>"
      ]
     },
     "metadata": {
      "needs_background": "light"
     },
     "output_type": "display_data"
    }
   ],
   "source": [
    "for sym in SYMBOLS:\n",
    "    quote = hist_quotes[sym]\n",
    "    print(sym)\n",
    "    f, ax = plt.subplots(1, 3, figsize=(10,3))\n",
    "    for i, col in enumerate(['quote_imb','bid_sz_2','ask_sz_2']):\n",
    "        sns.histplot(x=col, data=quote, ax=ax[i])\n",
    "    plt.tight_layout()"
   ]
  },
  {
   "cell_type": "code",
   "execution_count": 22,
   "id": "a9992143-cc27-4a9a-9776-930f5da139ee",
   "metadata": {},
   "outputs": [
    {
     "name": "stdout",
     "output_type": "stream",
     "text": [
      "BERRIES\n"
     ]
    },
    {
     "data": {
      "image/png": "[encoded data removed]",
      "text/plain": [
       "<Figure size 720x216 with 5 Axes>"
      ]
     },
     "metadata": {
      "needs_background": "light"
     },
     "output_type": "display_data"
    }
   ],
   "source": [
    "for sym in SYMBOLS:\n",
    "    quote = hist_quotes[sym]\n",
    "    print(sym)\n",
    "    f, ax = plt.subplots(1, 5, figsize=(10,3))\n",
    "    for i, col in enumerate(['spread','bid','ask', 'bid_2','ask_2']):\n",
    "        sns.histplot(x=col, data=quote, ax=ax[i])\n",
    "    plt.tight_layout()"
   ]
  },
  {
   "cell_type": "code",
   "execution_count": 23,
   "id": "34783f03-3fb0-4cee-9efe-83edf9d82d57",
   "metadata": {},
   "outputs": [
    {
     "name": "stdout",
     "output_type": "stream",
     "text": [
      "BERRIES\n"
     ]
    },
    {
     "data": {
      "image/png": "[encoded data removed]",
      "text/plain": [
       "<Figure size 720x216 with 5 Axes>"
      ]
     },
     "metadata": {
      "needs_background": "light"
     },
     "output_type": "display_data"
    }
   ],
   "source": [
    "for sym in SYMBOLS:\n",
    "    quote = hist_quotes[sym]\n",
    "    quote['b_b2'] = quote['bid'] - quote['bid_2']\n",
    "    quote['a_a2'] = quote['ask_2'] - quote['ask']\n",
    "    print(sym)\n",
    "    f, ax = plt.subplots(1, 5, figsize=(10,3))\n",
    "    for i, col in enumerate(['b_b2','a_a2','levels_imb', 'bid_levels', 'ask_levels']):\n",
    "        sns.histplot(x=col, data=quote, ax=ax[i])\n",
    "    plt.tight_layout()"
   ]
  },
  {
   "cell_type": "code",
   "execution_count": 24,
   "id": "754ab633-a5cb-4158-b9c7-3120de83a203",
   "metadata": {},
   "outputs": [
    {
     "data": {
      "image/png": "[encoded data removed]",
      "text/plain": [
       "<Figure size 432x216 with 1 Axes>"
      ]
     },
     "metadata": {
      "needs_background": "light"
     },
     "output_type": "display_data"
    }
   ],
   "source": [
    "for sym in SYMBOLS:\n",
    "    quote = hist_quotes[sym]\n",
    "    plot_col_sym(quote, sym, 'mid_price')"
   ]
  },
  {
   "cell_type": "code",
   "execution_count": null,
   "id": "c5faed4d-8a03-48b1-8734-ee68ee3e522f",
   "metadata": {},
   "outputs": [],
   "source": []
  },
  {
   "cell_type": "markdown",
   "id": "5608813c-cf1e-49de-8f79-a001627f2fcc",
   "metadata": {},
   "source": [
    "# Historical Trade Analysis"
   ]
  },
  {
   "cell_type": "code",
   "execution_count": 27,
   "id": "adaaf14e-b583-4776-88bf-362a1926ada8",
   "metadata": {},
   "outputs": [
    {
     "data": {
      "text/html": [
       "<div>\n",
       "<style scoped>\n",
       "    .dataframe tbody tr th:only-of-type {\n",
       "        vertical-align: middle;\n",
       "    }\n",
       "\n",
       "    .dataframe tbody tr th {\n",
       "        vertical-align: top;\n",
       "    }\n",
       "\n",
       "    .dataframe thead th {\n",
       "        text-align: right;\n",
       "    }\n",
       "</style>\n",
       "<table border=\"1\" class=\"dataframe\">\n",
       "  <thead>\n",
       "    <tr style=\"text-align: right;\">\n",
       "      <th></th>\n",
       "      <th>count</th>\n",
       "      <th>mean</th>\n",
       "      <th>std</th>\n",
       "      <th>min</th>\n",
       "      <th>25%</th>\n",
       "      <th>50%</th>\n",
       "      <th>75%</th>\n",
       "      <th>max</th>\n",
       "    </tr>\n",
       "  </thead>\n",
       "  <tbody>\n",
       "    <tr>\n",
       "      <th>BERRIES</th>\n",
       "      <td>1764.0</td>\n",
       "      <td>8.619048</td>\n",
       "      <td>4.820075</td>\n",
       "      <td>1.0</td>\n",
       "      <td>5.0</td>\n",
       "      <td>9.0</td>\n",
       "      <td>12.0</td>\n",
       "      <td>30.0</td>\n",
       "    </tr>\n",
       "  </tbody>\n",
       "</table>\n",
       "</div>"
      ],
      "text/plain": [
       "          count      mean       std  min  25%  50%   75%   max\n",
       "BERRIES  1764.0  8.619048  4.820075  1.0  5.0  9.0  12.0  30.0"
      ]
     },
     "execution_count": 27,
     "metadata": {},
     "output_type": "execute_result"
    }
   ],
   "source": [
    "summ = []\n",
    "for sym in SYMBOLS:\n",
    "    trades = hist_trades[sym]\n",
    "    summ.append(trades['quantity'].describe().rename(sym))\n",
    "pd.concat(summ,axis=1).transpose()"
   ]
  },
  {
   "cell_type": "code",
   "execution_count": 28,
   "id": "c6c57a98-2cc1-46c7-9f10-1179ff665496",
   "metadata": {},
   "outputs": [
    {
     "data": {
      "text/html": [
       "<div>\n",
       "<style scoped>\n",
       "    .dataframe tbody tr th:only-of-type {\n",
       "        vertical-align: middle;\n",
       "    }\n",
       "\n",
       "    .dataframe tbody tr th {\n",
       "        vertical-align: top;\n",
       "    }\n",
       "\n",
       "    .dataframe thead th {\n",
       "        text-align: right;\n",
       "    }\n",
       "</style>\n",
       "<table border=\"1\" class=\"dataframe\">\n",
       "  <thead>\n",
       "    <tr style=\"text-align: right;\">\n",
       "      <th></th>\n",
       "      <th>count</th>\n",
       "      <th>mean</th>\n",
       "      <th>std</th>\n",
       "      <th>min</th>\n",
       "      <th>25%</th>\n",
       "      <th>50%</th>\n",
       "      <th>75%</th>\n",
       "      <th>max</th>\n",
       "    </tr>\n",
       "  </thead>\n",
       "  <tbody>\n",
       "    <tr>\n",
       "      <th>BERRIES</th>\n",
       "      <td>1727.0</td>\n",
       "      <td>8.803706</td>\n",
       "      <td>4.994229</td>\n",
       "      <td>1.0</td>\n",
       "      <td>5.0</td>\n",
       "      <td>9.0</td>\n",
       "      <td>12.0</td>\n",
       "      <td>31.0</td>\n",
       "    </tr>\n",
       "  </tbody>\n",
       "</table>\n",
       "</div>"
      ],
      "text/plain": [
       "          count      mean       std  min  25%  50%   75%   max\n",
       "BERRIES  1727.0  8.803706  4.994229  1.0  5.0  9.0  12.0  31.0"
      ]
     },
     "execution_count": 28,
     "metadata": {},
     "output_type": "execute_result"
    }
   ],
   "source": [
    "summ = []\n",
    "for sym in SYMBOLS:\n",
    "    trades = hist_trades[sym]\n",
    "    summ.append(trades.groupby('timestamp')['quantity'].sum().describe().rename(sym))\n",
    "pd.concat(summ,axis=1).transpose()"
   ]
  },
  {
   "cell_type": "code",
   "execution_count": 32,
   "id": "1eab6847-7ef7-4cf2-81ce-071e40ed1be2",
   "metadata": {},
   "outputs": [
    {
     "name": "stdout",
     "output_type": "stream",
     "text": [
      "BERRIES\n"
     ]
    },
    {
     "data": {
      "image/png": "[encoded data removed]",
      "text/plain": [
       "<Figure size 864x288 with 5 Axes>"
      ]
     },
     "metadata": {
      "needs_background": "light"
     },
     "output_type": "display_data"
    }
   ],
   "source": [
    "for sym in SYMBOLS:\n",
    "    trades = hist_trades[sym]\n",
    "    trades['spread'] = trades['ask']-trades['bid']\n",
    "    trades['dist_mid'] = np.abs(trades['mid_price']-trades['price'])\n",
    "    \n",
    "    print(sym)\n",
    "    f, ax = plt.subplots(1, 5, figsize=(12,4))\n",
    "    for i, col in enumerate(['spread','quantity', 'dist_mid', 'bid_sz','ask_sz']):\n",
    "        sns.histplot(x=col, data=trades, ax=ax[i], hue='side',multiple='stack')\n",
    "    plt.tight_layout()"
   ]
  },
  {
   "cell_type": "code",
   "execution_count": 34,
   "id": "b640b85a-b197-477c-b84e-87672267cb1d",
   "metadata": {},
   "outputs": [
    {
     "name": "stdout",
     "output_type": "stream",
     "text": [
      "BERRIES\n"
     ]
    },
    {
     "data": {
      "image/png": "[encoded data removed]",
      "text/plain": [
       "<Figure size 864x288 with 4 Axes>"
      ]
     },
     "metadata": {
      "needs_background": "light"
     },
     "output_type": "display_data"
    }
   ],
   "source": [
    "for sym in SYMBOLS:\n",
    "    trades = hist_trades[sym]\n",
    "    trades['dist_bid'] = trades['price']-trades['bid']\n",
    "    trades['dist_ask'] = trades['ask']-trades['price']\n",
    "    \n",
    "    trades['dist_bid_2'] = trades['price']-trades['bid_2']\n",
    "    trades['dist_ask_2'] = trades['ask_2']-trades['price']\n",
    "    \n",
    "    print(sym)\n",
    "    f, ax = plt.subplots(1, 4, figsize=(12,4))\n",
    "    for i, col in enumerate(['dist_bid','dist_ask','dist_bid_2','dist_ask_2']):\n",
    "        sns.histplot(x=col, data=trades, ax=ax[i], hue='side',multiple='stack')\n",
    "    plt.tight_layout()"
   ]
  },
  {
   "cell_type": "code",
   "execution_count": null,
   "id": "9c543674-3857-463d-b3a5-0ded9786a6e9",
   "metadata": {},
   "outputs": [],
   "source": []
  }
 ],
 "metadata": {
  "kernelspec": {
   "display_name": "Python 3 (ipykernel)",
   "language": "python",
   "name": "python3"
  },
  "language_info": {
   "codemirror_mode": {
    "name": "ipython",
    "version": 3
   },
   "file_extension": ".py",
   "mimetype": "text/x-python",
   "name": "python",
   "nbconvert_exporter": "python",
   "pygments_lexer": "ipython3",
   "version": "3.9.7"
  }
 },
 "nbformat": 4,
 "nbformat_minor": 5
}
