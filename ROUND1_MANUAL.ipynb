{
 "cells": [
  {
   "cell_type": "markdown",
   "id": "6590f62d-2745-4914-b405-e2b6ed962c99",
   "metadata": {},
   "source": [
    "# Find a maximum capital path of length 5 that ends at seashells\n",
    "\n",
    "Do a full length search starting from seashells.\n",
    "Distance is determined by multiplying current capital by rate"
   ]
  },
  {
   "cell_type": "code",
   "execution_count": 13,
   "id": "424ecec2-1ba3-4abd-83c7-646abaa31c8c",
   "metadata": {},
   "outputs": [],
   "source": [
    "import numpy as np"
   ]
  },
  {
   "cell_type": "code",
   "execution_count": 1,
   "id": "99a80a55-d7f4-4feb-a4e9-af4cdd92995e",
   "metadata": {},
   "outputs": [],
   "source": [
    "adj_matrix = {}\n",
    "adj_matrix['pizza'] = {'wasabi': 0.5, 'snowball': 1.45, 'seashells': 0.75}\n",
    "adj_matrix['wasabi'] = {'pizza': 1.95, 'snowball': 3.1, 'seashells': 1.49}\n",
    "adj_matrix['snowball'] = {'pizza': 0.67, 'wasabi': 0.31, 'seashells': 0.48}\n",
    "adj_matrix['seashells'] = {'pizza': 1.34,'wasabi': 0.64, 'snowball': 1.98}"
   ]
  },
  {
   "cell_type": "code",
   "execution_count": 14,
   "id": "0b966156-5b54-4b0d-8b2e-7a021674c8db",
   "metadata": {},
   "outputs": [],
   "source": [
    "all_trades = []\n",
    "current_paths = [(2000, ['seashells'])]\n",
    "\n",
    "for i in range(6):\n",
    "    next_paths = []\n",
    "    all_trades += current_paths.copy()\n",
    "    \n",
    "    for capital, path in current_paths:\n",
    "        for t in adj_matrix[path[-1]]:\n",
    "            trades = path.copy()\n",
    "            trades.append(t)\n",
    "            next_paths.append((capital*adj_matrix[path[-1]][t], trades))\n",
    "            # in case of something strange with how trades are settled\n",
    "            # next_paths.append((np.floor(capital*adj_matrix[path[-1]][t]), trades))\n",
    "            \n",
    "    current_paths = next_paths\n",
    "    "
   ]
  },
  {
   "cell_type": "code",
   "execution_count": 16,
   "id": "246ddaa1-03aa-422c-869f-1f43470e36e7",
   "metadata": {},
   "outputs": [],
   "source": [
    "viable_trades = []\n",
    "for c,t in all_trades:\n",
    "    if t[-1] == 'seashells':\n",
    "        viable_trades.append((c,t))"
   ]
  },
  {
   "cell_type": "code",
   "execution_count": 15,
   "id": "9aabd6a5-bf46-4f34-ba7c-2ec833a4861b",
   "metadata": {},
   "outputs": [
    {
     "data": {
      "text/plain": [
       "(4172.0, ['seashells', 'pizza', 'seashells', 'pizza', 'wasabi', 'snowball'])"
      ]
     },
     "execution_count": 15,
     "metadata": {},
     "output_type": "execute_result"
    }
   ],
   "source": [
    "max(all_trades)"
   ]
  },
  {
   "cell_type": "code",
   "execution_count": 17,
   "id": "187e39c6-6b28-41e7-8406-5b08eac1d4d6",
   "metadata": {},
   "outputs": [
    {
     "data": {
      "text/plain": [
       "[(2087.0, ['seashells', 'pizza', 'wasabi', 'snowball', 'pizza', 'seashells']),\n",
       " (2019.0, ['seashells', 'pizza', 'seashells', 'pizza', 'seashells']),\n",
       " (2010.0, ['seashells', 'pizza', 'seashells']),\n",
       " (2005.0, ['seashells', 'pizza', 'wasabi', 'seashells', 'pizza', 'seashells']),\n",
       " (2005.0, ['seashells', 'pizza', 'seashells', 'pizza', 'wasabi', 'seashells']),\n",
       " (2000, ['seashells']),\n",
       " (1998.0,\n",
       "  ['seashells', 'snowball', 'pizza', 'seashells', 'pizza', 'seashells']),\n",
       " (1998.0,\n",
       "  ['seashells', 'pizza', 'seashells', 'snowball', 'pizza', 'seashells']),\n",
       " (1996.0, ['seashells', 'pizza', 'wasabi', 'seashells']),\n",
       " (1993.0, ['seashells', 'wasabi', 'snowball', 'pizza', 'seashells']),\n",
       " (1993.0, ['seashells', 'pizza', 'wasabi', 'snowball', 'seashells']),\n",
       " (1989.0, ['seashells', 'snowball', 'pizza', 'seashells']),\n",
       " (1980.0, ['seashells', 'wasabi', 'snowball', 'pizza', 'wasabi', 'seashells']),\n",
       " (1975.0, ['seashells', 'snowball', 'pizza', 'wasabi', 'seashells']),\n",
       " (1972.0,\n",
       "  ['seashells', 'snowball', 'pizza', 'wasabi', 'snowball', 'seashells']),\n",
       " (1959.0, ['seashells', 'pizza', 'wasabi', 'pizza', 'seashells']),\n",
       " (1952.0, ['seashells', 'pizza', 'snowball', 'pizza', 'seashells']),\n",
       " (1945.0, ['seashells', 'pizza', 'wasabi', 'pizza', 'wasabi', 'seashells']),\n",
       " (1938.0, ['seashells', 'snowball', 'pizza', 'wasabi', 'pizza', 'seashells']),\n",
       " (1938.0, ['seashells', 'pizza', 'snowball', 'pizza', 'wasabi', 'seashells']),\n",
       " (1932.0,\n",
       "  ['seashells', 'snowball', 'pizza', 'snowball', 'pizza', 'seashells']),\n",
       " (1917.0, ['seashells', 'pizza', 'wasabi', 'snowball', 'wasabi', 'seashells']),\n",
       " (1916.0, ['seashells', 'wasabi', 'seashells', 'pizza', 'seashells']),\n",
       " (1916.0, ['seashells', 'pizza', 'seashells', 'wasabi', 'seashells']),\n",
       " (1913.0,\n",
       "  ['seashells', 'wasabi', 'snowball', 'seashells', 'pizza', 'seashells']),\n",
       " (1913.0,\n",
       "  ['seashells', 'pizza', 'seashells', 'wasabi', 'snowball', 'seashells']),\n",
       " (1911.0,\n",
       "  ['seashells', 'snowball', 'wasabi', 'snowball', 'pizza', 'seashells']),\n",
       " (1909.0, ['seashells', 'snowball', 'seashells', 'pizza', 'seashells']),\n",
       " (1909.0, ['seashells', 'pizza', 'seashells', 'snowball', 'seashells']),\n",
       " (1907.0, ['seashells', 'wasabi', 'seashells']),\n",
       " (1904.0, ['seashells', 'wasabi', 'snowball', 'seashells']),\n",
       " (1902.0,\n",
       "  ['seashells', 'wasabi', 'seashells', 'pizza', 'wasabi', 'seashells']),\n",
       " (1902.0,\n",
       "  ['seashells', 'pizza', 'wasabi', 'seashells', 'wasabi', 'seashells']),\n",
       " (1900.0, ['seashells', 'snowball', 'seashells']),\n",
       " (1896.0,\n",
       "  ['seashells', 'wasabi', 'seashells', 'snowball', 'pizza', 'seashells']),\n",
       " (1896.0,\n",
       "  ['seashells', 'snowball', 'seashells', 'pizza', 'wasabi', 'seashells']),\n",
       " (1896.0,\n",
       "  ['seashells', 'pizza', 'wasabi', 'seashells', 'snowball', 'seashells']),\n",
       " (1895.0,\n",
       "  ['seashells', 'snowball', 'pizza', 'seashells', 'wasabi', 'seashells']),\n",
       " (1890.0,\n",
       "  ['seashells', 'snowball', 'seashells', 'snowball', 'pizza', 'seashells']),\n",
       " (1890.0,\n",
       "  ['seashells', 'snowball', 'pizza', 'seashells', 'snowball', 'seashells']),\n",
       " (1881.0, ['seashells', 'wasabi', 'pizza', 'seashells', 'pizza', 'seashells']),\n",
       " (1880.0, ['seashells', 'pizza', 'seashells', 'wasabi', 'pizza', 'seashells']),\n",
       " (1874.0,\n",
       "  ['seashells', 'pizza', 'snowball', 'seashells', 'pizza', 'seashells']),\n",
       " (1873.0,\n",
       "  ['seashells', 'pizza', 'seashells', 'pizza', 'snowball', 'seashells']),\n",
       " (1872.0, ['seashells', 'wasabi', 'pizza', 'seashells']),\n",
       " (1865.0, ['seashells', 'pizza', 'snowball', 'seashells']),\n",
       " (1859.0, ['seashells', 'wasabi', 'pizza', 'wasabi', 'seashells']),\n",
       " (1856.0, ['seashells', 'wasabi', 'pizza', 'wasabi', 'snowball', 'seashells']),\n",
       " (1849.0,\n",
       "  ['seashells', 'wasabi', 'snowball', 'pizza', 'snowball', 'seashells']),\n",
       " (1846.0, ['seashells', 'snowball', 'pizza', 'snowball', 'seashells']),\n",
       " (1837.0,\n",
       "  ['seashells', 'pizza', 'seashells', 'snowball', 'wasabi', 'seashells']),\n",
       " (1836.0,\n",
       "  ['seashells', 'snowball', 'wasabi', 'seashells', 'pizza', 'seashells']),\n",
       " (1832.0, ['seashells', 'wasabi', 'snowball', 'wasabi', 'seashells']),\n",
       " (1830.0,\n",
       "  ['seashells', 'wasabi', 'snowball', 'wasabi', 'snowball', 'seashells']),\n",
       " (1828.0, ['seashells', 'snowball', 'wasabi', 'seashells']),\n",
       " (1825.0, ['seashells', 'snowball', 'wasabi', 'snowball', 'seashells']),\n",
       " (1824.0, ['seashells', 'wasabi', 'pizza', 'wasabi', 'pizza', 'seashells']),\n",
       " (1818.0, ['seashells', 'wasabi', 'pizza', 'snowball', 'pizza', 'seashells']),\n",
       " (1818.0, ['seashells', 'pizza', 'wasabi', 'pizza', 'snowball', 'seashells']),\n",
       " (1817.0, ['seashells', 'wasabi', 'seashells', 'wasabi', 'seashells']),\n",
       " (1815.0,\n",
       "  ['seashells', 'wasabi', 'seashells', 'wasabi', 'snowball', 'seashells']),\n",
       " (1814.0,\n",
       "  ['seashells', 'wasabi', 'snowball', 'seashells', 'wasabi', 'seashells']),\n",
       " (1812.0, ['seashells', 'wasabi', 'seashells', 'snowball', 'seashells']),\n",
       " (1811.0, ['seashells', 'snowball', 'seashells', 'wasabi', 'seashells']),\n",
       " (1811.0,\n",
       "  ['seashells', 'pizza', 'snowball', 'pizza', 'snowball', 'seashells']),\n",
       " (1809.0,\n",
       "  ['seashells', 'wasabi', 'snowball', 'seashells', 'snowball', 'seashells']),\n",
       " (1809.0,\n",
       "  ['seashells', 'snowball', 'seashells', 'wasabi', 'snowball', 'seashells']),\n",
       " (1805.0, ['seashells', 'snowball', 'seashells', 'snowball', 'seashells']),\n",
       " (1798.0, ['seashells', 'wasabi', 'snowball', 'wasabi', 'pizza', 'seashells']),\n",
       " (1794.0, ['seashells', 'snowball', 'wasabi', 'pizza', 'seashells']),\n",
       " (1793.0, ['seashells', 'pizza', 'snowball', 'wasabi', 'seashells']),\n",
       " (1791.0,\n",
       "  ['seashells', 'pizza', 'snowball', 'wasabi', 'snowball', 'seashells']),\n",
       " (1785.0,\n",
       "  ['seashells', 'wasabi', 'pizza', 'seashells', 'wasabi', 'seashells']),\n",
       " (1784.0,\n",
       "  ['seashells', 'wasabi', 'seashells', 'wasabi', 'pizza', 'seashells']),\n",
       " (1782.0, ['seashells', 'snowball', 'wasabi', 'pizza', 'wasabi', 'seashells']),\n",
       " (1778.0,\n",
       "  ['seashells', 'wasabi', 'pizza', 'seashells', 'snowball', 'seashells']),\n",
       " (1778.0,\n",
       "  ['seashells', 'snowball', 'seashells', 'wasabi', 'pizza', 'seashells']),\n",
       " (1777.0,\n",
       "  ['seashells', 'wasabi', 'seashells', 'pizza', 'snowball', 'seashells']),\n",
       " (1777.0,\n",
       "  ['seashells', 'pizza', 'snowball', 'seashells', 'wasabi', 'seashells']),\n",
       " (1776.0,\n",
       "  ['seashells', 'snowball', 'pizza', 'snowball', 'wasabi', 'seashells']),\n",
       " (1772.0,\n",
       "  ['seashells', 'pizza', 'snowball', 'seashells', 'snowball', 'seashells']),\n",
       " (1771.0,\n",
       "  ['seashells', 'snowball', 'seashells', 'pizza', 'snowball', 'seashells']),\n",
       " (1760.0, ['seashells', 'pizza', 'snowball', 'wasabi', 'pizza', 'seashells']),\n",
       " (1755.0,\n",
       "  ['seashells', 'snowball', 'wasabi', 'snowball', 'wasabi', 'seashells']),\n",
       " (1743.0,\n",
       "  ['seashells', 'wasabi', 'seashells', 'snowball', 'wasabi', 'seashells']),\n",
       " (1741.0,\n",
       "  ['seashells', 'snowball', 'wasabi', 'seashells', 'wasabi', 'seashells']),\n",
       " (1737.0, ['seashells', 'wasabi', 'pizza', 'snowball', 'seashells']),\n",
       " (1737.0,\n",
       "  ['seashells', 'snowball', 'wasabi', 'seashells', 'snowball', 'seashells']),\n",
       " (1737.0,\n",
       "  ['seashells', 'snowball', 'seashells', 'snowball', 'wasabi', 'seashells']),\n",
       " (1670.0, ['seashells', 'wasabi', 'pizza', 'snowball', 'wasabi', 'seashells']),\n",
       " (1664.0,\n",
       "  ['seashells', 'snowball', 'wasabi', 'pizza', 'snowball', 'seashells'])]"
      ]
     },
     "execution_count": 17,
     "metadata": {},
     "output_type": "execute_result"
    }
   ],
   "source": [
    "viable_trades.sort()\n",
    "viable_trades.reverse()\n",
    "viable_trades"
   ]
  }
 ],
 "metadata": {
  "kernelspec": {
   "display_name": "Python 3 (ipykernel)",
   "language": "python",
   "name": "python3"
  },
  "language_info": {
   "codemirror_mode": {
    "name": "ipython",
    "version": 3
   },
   "file_extension": ".py",
   "mimetype": "text/x-python",
   "name": "python",
   "nbconvert_exporter": "python",
   "pygments_lexer": "ipython3",
   "version": "3.9.7"
  }
 },
 "nbformat": 4,
 "nbformat_minor": 5
}
