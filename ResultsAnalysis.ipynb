{
 "cells": [
  {
   "cell_type": "code",
   "execution_count": 147,
   "id": "3ab362cd",
   "metadata": {},
   "outputs": [],
   "source": [
    "import numpy as np\n",
    "import pandas as pd\n",
    "import json\n",
    "import re\n",
    "\n",
    "import collections\n",
    "\n",
    "import matplotlib.pyplot as plt"
   ]
  },
  {
   "cell_type": "markdown",
   "id": "1e8a6af3-0578-4840-9421-39145cc4a20a",
   "metadata": {
    "tags": []
   },
   "source": [
    "# Parsing Helpers"
   ]
  },
  {
   "cell_type": "code",
   "execution_count": 148,
   "id": "f7b4a9ab-cef4-4b13-8fdb-c346494c650d",
   "metadata": {
    "jupyter": {
     "source_hidden": true
    },
    "tags": []
   },
   "outputs": [],
   "source": [
    "def load_market_data(file, row_limit = None):\n",
    "    md = pd.read_csv(file,sep=';')\n",
    "    if row_limit:\n",
    "        markets = split_data_by_product(md.loc[md.timestamp <= row_limit])\n",
    "    else:\n",
    "        markets = split_data_by_product(md)\n",
    "    symbols = list(markets.keys())\n",
    "    print(f\"Symbols: {symbols}\")\n",
    "    for s in markets:\n",
    "        md_preprocess(markets[s])\n",
    "    return markets\n",
    "\n",
    "def split_data_by_product(df):\n",
    "    markets = dict()\n",
    "    df_grouped = df.groupby(\"product\")\n",
    "    symbols = list(df_grouped.groups.keys())\n",
    "    for s in symbols:\n",
    "        markets[s] = df_grouped.get_group(s).reset_index(drop=True)\n",
    "    return markets\n",
    "\n",
    "def md_preprocess(md):\n",
    "    \"\"\" Pre-computing additional columns for analyzing quote\n",
    "    \"\"\"\n",
    "    # md['mid_price'] = (md.ask_price_1 + md.bid_price_1)/2\n",
    "    md['spread'] = md.ask_price_1 - md.bid_price_1\n",
    "    md['return'] = md['mid_price']/md['mid_price'].iloc[0] # % change in price since the beginning\n",
    "    \n",
    "    for t in [5, 10, 25, 50, 100]:\n",
    "        md[f'mid_px_mavg{t}'] = md['mid_price'].rolling(t, min_periods=0).mean()\n",
    "        md[f'px_norm_mavg{t}'] = md['return'].rolling(t, min_periods=0).mean()\n",
    "        \n",
    "    # quote weighted average price\n",
    "    md['quote_wgt_px'] = (md.bid_volume_1*md.bid_price_1 + md.ask_volume_1*md.ask_price_1)/(md.bid_volume_1+md.ask_volume_1)\n",
    "    for t in [1, 2, 3, 4, 5, 10, 30, 100, 200]:\n",
    "        # Price move since the past\n",
    "        md[f'px_move_{t}'] = md.mid_price-md.mid_price.shift(t)\n",
    "        md[f'px_move_{t}'].fillna(0, inplace=True)\n",
    "        \n",
    "        # log return\n",
    "        md[f'log_return_{t}'] = np.log(md.mid_price)-np.log(md.mid_price.shift(t))\n",
    "        md[f'log_return_{t}'].fillna(1, inplace=True)\n",
    "\n",
    "    md['quote_imbalance'] = (md.bid_volume_1)/(md.bid_volume_1 + md.ask_volume_1)\n",
    "    \n",
    "    return"
   ]
  },
  {
   "cell_type": "code",
   "execution_count": 156,
   "id": "93a204a0-c154-46fd-a95d-695778b0baea",
   "metadata": {
    "tags": []
   },
   "outputs": [],
   "source": [
    "def read_trading_logs(file):\n",
    "    # Load in jsons for trading states and sent orders\n",
    "    state_regex = re.compile(r\"(\\d+) (\\{.*\\})\")\n",
    "    orders_regex = re.compile(r\"(\\d+) SENT_ORDERS (\\{.*\\})\")\n",
    "    empty_regex = re.compile(r\"(\\d+) \")\n",
    "    \n",
    "    trading_states = []\n",
    "    sent_orders = []\n",
    "    with open(file, \"r\") as fp:\n",
    "        lines = fp.readlines()\n",
    "        for l in lines:\n",
    "            match = state_regex.match(l)\n",
    "            if match:\n",
    "                trading_states.append(match.group(2))\n",
    "                continue\n",
    "            match = orders_regex.match(l)\n",
    "            if match:\n",
    "                sent = json.loads(match.group(2))\n",
    "                sent['timestamp'] = int(match.group(1))\n",
    "                sent_orders.append(sent)\n",
    "                continue\n",
    "            match = empty_regex.match(l)\n",
    "            if match:\n",
    "                trading_states.append(match.group(1))\n",
    "        \n",
    "    return trading_states, sent_orders\n",
    "\n",
    "def process_trading_state_jsons(trading_states):\n",
    "    positions = []\n",
    "    market_trades = []\n",
    "    latest_trade_timestamp = collections.defaultdict(int)\n",
    "    own_trades = []\n",
    "    # order_depths = []\n",
    "    \n",
    "    listings = json.loads(trading_states[0])[\"listings\"]\n",
    "    for l in listings:\n",
    "        # Dummy position\n",
    "        positions.append({\"timestamp\": -1, \"symbol\": l, \"position\": 0})\n",
    "    \n",
    "    for t in trading_states:\n",
    "        state = json.loads(t)\n",
    "        if type(state) == int:\n",
    "            insert_empty_state(state, listings, positions)\n",
    "        else:\n",
    "            extract_position(positions, state)\n",
    "            extract_new_trades(market_trades, latest_trade_timestamp, state)\n",
    "            extract_own_trades(own_trades, state)\n",
    "            # extract_order_book(order_depths, state)\n",
    "            \n",
    "    positions = pd.DataFrame(positions)\n",
    "    market_trades = pd.DataFrame(market_trades)\n",
    "    own_trades = pd.DataFrame(own_trades)\n",
    "    # order_depths = pd.DataFrame(order_depths)\n",
    "    \n",
    "    return positions, market_trades, own_trades\n",
    "\n",
    "def insert_empty_state(timestamp, listings, *args):\n",
    "    # Insert timestamp corresponding to the empty state - these are to be forward filled\n",
    "    for data in args:\n",
    "        for l in listings:\n",
    "            data.append({\"timestamp\": timestamp, \"symbol\": l})\n",
    "    return\n",
    "\n",
    "def extract_position(positions, state):\n",
    "    pos = state['position']\n",
    "    for p in pos:\n",
    "        positions.append({\"timestamp\": state['timestamp'], \"symbol\": p, \"position\": pos[p]})\n",
    "    return\n",
    "\n",
    "def extract_new_trades(market_trades, latest_trade_timestamp, state):\n",
    "    time = state['timestamp']\n",
    "    for sym in state['market_trades']:\n",
    "        for t in state['market_trades'][sym]:\n",
    "            if t['timestamp'] == time-100:\n",
    "                market_trades.append(t)\n",
    "                \n",
    "    return\n",
    "\n",
    "def extract_own_trades(own_trades, state):\n",
    "    time = state['timestamp']\n",
    "    for sym in state['own_trades']:\n",
    "        for t in state['own_trades'][sym]:\n",
    "            if t['timestamp'] == time-100:\n",
    "                own_trades.append(t)\n",
    "    \n",
    "    return\n",
    "\n",
    "def extract_order_book(order_depths, state):\n",
    "    time = state['timestamp']\n",
    "    for sym in state['order_depths']:\n",
    "        for t in state['order_depths'][sym]:\n",
    "            pass\n",
    "\n",
    "        \n",
    "def process_market_trades(market_trades):\n",
    "    \"\"\" Processing of dataframe for market_trades\n",
    "    \"\"\"\n",
    "    \n",
    "    market_trades.drop(columns=['buyer', 'seller'], inplace=True)\n",
    "    return\n",
    "\n",
    "def process_own_trades(own_trades):\n",
    "    \"\"\" Processing of dataframe for own_trades\n",
    "    \"\"\"\n",
    "    \n",
    "    own_trades['side'] = own_trades.apply(lambda x: 1 if x['buyer'] else -1, axis=1)\n",
    "    own_trades.drop(columns=['buyer', 'seller'], inplace=True)\n",
    "    return\n",
    "\n",
    "def process_sent_orders_json(sent_orders):\n",
    "    df = []\n",
    "    for t in sent_orders:\n",
    "        time = t['timestamp']\n",
    "        for s in t:\n",
    "            if s != 'timestamp' and t[s]:\n",
    "                for order in t[s]:\n",
    "                    order['timestamp'] = time\n",
    "                    df.append(order)\n",
    "        \n",
    "    df = pd.DataFrame(df)\n",
    "    df['side'] = df.apply(lambda x: np.sign(x['quantity']), axis=1)\n",
    "    return df\n",
    "\n",
    "def load_data_from_log(file):\n",
    "    trading_states, sent_orders = read_trading_logs(file)\n",
    "    positions, market_trades, own_trades = process_trading_state_jsons(trading_states)\n",
    "    process_market_trades(market_trades)\n",
    "    process_own_trades(own_trades)\n",
    "    dfs = {}\n",
    "    dfs['orders'] = create_sent_orders_df(sent_orders)\n",
    "    dfs['positions'] = positions\n",
    "    dfs['market_trades'] = market_trades\n",
    "    dfs['own_trades'] = own_trades\n",
    "    \n",
    "    return dfs"
   ]
  },
  {
   "cell_type": "markdown",
   "id": "a62070e2-0482-4d42-9dab-f11b776071db",
   "metadata": {},
   "source": [
    "# Data Loading"
   ]
  },
  {
   "cell_type": "code",
   "execution_count": 157,
   "id": "55313a6c-478f-4979-88f5-f355a1ed2b23",
   "metadata": {},
   "outputs": [
    {
     "name": "stdout",
     "output_type": "stream",
     "text": [
      "Symbols: ['BANANAS', 'PEARLS']\n"
     ]
    }
   ],
   "source": [
    "log_file = \"logs/e0a30df3-402b-48e0-8823-b08296a7f817.log\"\n",
    "dfs = load_data_from_log(log_file)\n",
    "results_file = \"results/tutorial_results1_v1.csv\"\n",
    "markets = load_market_data(results_file)"
   ]
  },
  {
   "cell_type": "code",
   "execution_count": 158,
   "id": "6250318b-8ca7-47c7-b29c-ab6ed724c4f4",
   "metadata": {},
   "outputs": [
    {
     "data": {
      "text/html": [
       "<div>\n",
       "<style scoped>\n",
       "    .dataframe tbody tr th:only-of-type {\n",
       "        vertical-align: middle;\n",
       "    }\n",
       "\n",
       "    .dataframe tbody tr th {\n",
       "        vertical-align: top;\n",
       "    }\n",
       "\n",
       "    .dataframe thead th {\n",
       "        text-align: right;\n",
       "    }\n",
       "</style>\n",
       "<table border=\"1\" class=\"dataframe\">\n",
       "  <thead>\n",
       "    <tr style=\"text-align: right;\">\n",
       "      <th></th>\n",
       "      <th>price</th>\n",
       "      <th>quantity</th>\n",
       "      <th>symbol</th>\n",
       "      <th>timestamp</th>\n",
       "    </tr>\n",
       "  </thead>\n",
       "  <tbody>\n",
       "    <tr>\n",
       "      <th>0</th>\n",
       "      <td>10002.0</td>\n",
       "      <td>1</td>\n",
       "      <td>PEARLS</td>\n",
       "      <td>100</td>\n",
       "    </tr>\n",
       "    <tr>\n",
       "      <th>1</th>\n",
       "      <td>4952.0</td>\n",
       "      <td>9</td>\n",
       "      <td>BANANAS</td>\n",
       "      <td>400</td>\n",
       "    </tr>\n",
       "    <tr>\n",
       "      <th>2</th>\n",
       "      <td>4952.0</td>\n",
       "      <td>1</td>\n",
       "      <td>BANANAS</td>\n",
       "      <td>500</td>\n",
       "    </tr>\n",
       "    <tr>\n",
       "      <th>3</th>\n",
       "      <td>10004.0</td>\n",
       "      <td>1</td>\n",
       "      <td>PEARLS</td>\n",
       "      <td>500</td>\n",
       "    </tr>\n",
       "    <tr>\n",
       "      <th>4</th>\n",
       "      <td>4945.0</td>\n",
       "      <td>1</td>\n",
       "      <td>BANANAS</td>\n",
       "      <td>1400</td>\n",
       "    </tr>\n",
       "  </tbody>\n",
       "</table>\n",
       "</div>"
      ],
      "text/plain": [
       "     price  quantity   symbol  timestamp\n",
       "0  10002.0         1   PEARLS        100\n",
       "1   4952.0         9  BANANAS        400\n",
       "2   4952.0         1  BANANAS        500\n",
       "3  10004.0         1   PEARLS        500\n",
       "4   4945.0         1  BANANAS       1400"
      ]
     },
     "execution_count": 158,
     "metadata": {},
     "output_type": "execute_result"
    }
   ],
   "source": [
    "dfs['market_trades'].head()"
   ]
  },
  {
   "cell_type": "code",
   "execution_count": 159,
   "id": "7d7209a2-04ed-4518-8a0b-68ab9df12e3e",
   "metadata": {},
   "outputs": [
    {
     "data": {
      "text/html": [
       "<div>\n",
       "<style scoped>\n",
       "    .dataframe tbody tr th:only-of-type {\n",
       "        vertical-align: middle;\n",
       "    }\n",
       "\n",
       "    .dataframe tbody tr th {\n",
       "        vertical-align: top;\n",
       "    }\n",
       "\n",
       "    .dataframe thead th {\n",
       "        text-align: right;\n",
       "    }\n",
       "</style>\n",
       "<table border=\"1\" class=\"dataframe\">\n",
       "  <thead>\n",
       "    <tr style=\"text-align: right;\">\n",
       "      <th></th>\n",
       "      <th>price</th>\n",
       "      <th>quantity</th>\n",
       "      <th>symbol</th>\n",
       "      <th>timestamp</th>\n",
       "      <th>side</th>\n",
       "    </tr>\n",
       "  </thead>\n",
       "  <tbody>\n",
       "    <tr>\n",
       "      <th>0</th>\n",
       "      <td>9998.0</td>\n",
       "      <td>2</td>\n",
       "      <td>PEARLS</td>\n",
       "      <td>300</td>\n",
       "      <td>1</td>\n",
       "    </tr>\n",
       "    <tr>\n",
       "      <th>1</th>\n",
       "      <td>9998.0</td>\n",
       "      <td>1</td>\n",
       "      <td>PEARLS</td>\n",
       "      <td>300</td>\n",
       "      <td>1</td>\n",
       "    </tr>\n",
       "    <tr>\n",
       "      <th>2</th>\n",
       "      <td>10002.0</td>\n",
       "      <td>1</td>\n",
       "      <td>PEARLS</td>\n",
       "      <td>500</td>\n",
       "      <td>-1</td>\n",
       "    </tr>\n",
       "    <tr>\n",
       "      <th>3</th>\n",
       "      <td>10002.0</td>\n",
       "      <td>1</td>\n",
       "      <td>PEARLS</td>\n",
       "      <td>1500</td>\n",
       "      <td>-1</td>\n",
       "    </tr>\n",
       "    <tr>\n",
       "      <th>4</th>\n",
       "      <td>10002.0</td>\n",
       "      <td>10</td>\n",
       "      <td>PEARLS</td>\n",
       "      <td>2900</td>\n",
       "      <td>-1</td>\n",
       "    </tr>\n",
       "  </tbody>\n",
       "</table>\n",
       "</div>"
      ],
      "text/plain": [
       "     price  quantity  symbol  timestamp  side\n",
       "0   9998.0         2  PEARLS        300     1\n",
       "1   9998.0         1  PEARLS        300     1\n",
       "2  10002.0         1  PEARLS        500    -1\n",
       "3  10002.0         1  PEARLS       1500    -1\n",
       "4  10002.0        10  PEARLS       2900    -1"
      ]
     },
     "execution_count": 159,
     "metadata": {},
     "output_type": "execute_result"
    }
   ],
   "source": [
    "dfs['own_trades'].head()"
   ]
  },
  {
   "cell_type": "code",
   "execution_count": 48,
   "id": "fe5a8ed3-ce4f-41fe-a6f7-b5cf170f1a29",
   "metadata": {
    "tags": []
   },
   "outputs": [],
   "source": [
    "def md_trade_quote_join():\n",
    "    pass"
   ]
  },
  {
   "cell_type": "markdown",
   "id": "803e9d30-7f54-456f-b1c8-22fb3b2443a6",
   "metadata": {
    "jp-MarkdownHeadingCollapsed": true,
    "tags": []
   },
   "source": [
    "# Plotting"
   ]
  },
  {
   "cell_type": "code",
   "execution_count": 126,
   "id": "91fe3995-b6aa-4711-9cf4-c5063b01919f",
   "metadata": {
    "tags": []
   },
   "outputs": [],
   "source": [
    "def plot_bbo(md, sym):\n",
    "    f, ax = plt.subplots(figsize=(8,5))\n",
    "    ax.plot(\"timestamp\", \"bid_price_1\", data=md, color=\"red\")\n",
    "    ax.plot(\"timestamp\", \"ask_price_1\", data=md, color=\"blue\")\n",
    "    ax.set_xlabel(\"Time\")\n",
    "    ax.set_ylabel(\"Price (Seashells)\")\n",
    "    ax.set_title(sym)\n",
    "    return\n",
    "    \n",
    "def plot_spread(md, sym):\n",
    "    f, ax = plt.subplots(figsize=(8,5))\n",
    "    ax.plot(\"timestamp\", \"spread\", data=md)\n",
    "    ax.set_xlabel(\"Time\")\n",
    "    ax.set_ylabel(\"Spread\")\n",
    "    ax.set_title(sym)\n",
    "    return\n",
    "\n",
    "def plot_price(md, sym, price_type):\n",
    "    f, ax = plt.subplots(figsize=(8,5))\n",
    "    ax.plot(\"timestamp\", price_type, data=md)\n",
    "    ax.set_xlabel(\"Time\")\n",
    "    ax.set_ylabel(price_type.capitalize())\n",
    "    ax.set_title(sym)\n",
    "    return\n",
    "\n",
    "def plot_ohcl(md, sym):\n",
    "    # Candlestick plot\n",
    "    pass"
   ]
  },
  {
   "cell_type": "code",
   "execution_count": 129,
   "id": "be1cdd8e-d1eb-45b9-a9bb-d35439a137c0",
   "metadata": {},
   "outputs": [
    {
     "data": {
      "image/png": "[encoded data removed]",
      "text/plain": [
       "<Figure size 576x360 with 1 Axes>"
      ]
     },
     "metadata": {
      "needs_background": "light"
     },
     "output_type": "display_data"
    },
    {
     "data": {
      "image/png": "[encoded data removed]",
      "text/plain": [
       "<Figure size 576x360 with 1 Axes>"
      ]
     },
     "metadata": {
      "needs_background": "light"
     },
     "output_type": "display_data"
    }
   ],
   "source": [
    "for s in symbols:\n",
    "    plot_price(markets[s], s, \"return\")    \n",
    "    # plot_price(markets[s], s, \"mid_px_mavg10\")"
   ]
  }
 ],
 "metadata": {
  "kernelspec": {
   "display_name": "Python 3 (ipykernel)",
   "language": "python",
   "name": "python3"
  },
  "language_info": {
   "codemirror_mode": {
    "name": "ipython",
    "version": 3
   },
   "file_extension": ".py",
   "mimetype": "text/x-python",
   "name": "python",
   "nbconvert_exporter": "python",
   "pygments_lexer": "ipython3",
   "version": "3.9.7"
  },
  "toc": {
   "base_numbering": 1,
   "nav_menu": {},
   "number_sections": true,
   "sideBar": true,
   "skip_h1_title": false,
   "title_cell": "Table of Contents",
   "title_sidebar": "Contents",
   "toc_cell": false,
   "toc_position": {},
   "toc_section_display": true,
   "toc_window_display": false
  }
 },
 "nbformat": 4,
 "nbformat_minor": 5
}
